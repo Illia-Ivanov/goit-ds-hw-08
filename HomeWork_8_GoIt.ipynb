{
 "cells": [
  {
   "cell_type": "code",
   "execution_count": 3,
   "id": "e3a1d4b1-65d5-4106-8aea-45da77da98a4",
   "metadata": {},
   "outputs": [],
   "source": [
    "import numpy as np\n",
    "import pandas as pd\n",
    "import os\n",
    "from sklearn import svm\n",
    "from sklearn.model_selection import train_test_split\n",
    "from sklearn.metrics import accuracy_score\n",
    "from sklearn.metrics import accuracy_score, precision_score, recall_score, f1_score\n",
    "\n",
    "def compute_time_domain_features(signal):\n",
    "    features = []\n",
    "    features.append(np.mean(signal))  # mean\n",
    "    features.append(np.std(signal))  # std_dev\n",
    "    features.append(np.var(signal))  # variance\n",
    "    features.append(np.max(signal))  # max\n",
    "    features.append(np.min(signal))  # min\n",
    "    features.append(np.max(signal) - np.min(signal))  # range\n",
    "    features.append(np.sqrt(np.mean(signal**2)))  # rms\n",
    "    features.append(pd.Series(signal).kurtosis())  # kurtosis\n",
    "    features.append(pd.Series(signal).skew())  # skewness\n",
    "    features.append((np.diff(np.sign(signal)) != 0).sum())  # zero_crossings\n",
    "    return features\n",
    "\n",
    "def process_files_in_directory(directory):\n",
    "    features_list = []\n",
    "    for root, _, files in os.walk(directory):\n",
    "        for file in files:\n",
    "            if file.endswith('.csv'):\n",
    "                file_path = os.path.join(root, file)\n",
    "                data = pd.read_csv(file_path)\n",
    "                # Припускаємо, що дані є одновимірними. Якщо є кілька колонок, слід уточнити яку саме використовувати.\n",
    "                for column in data.columns:\n",
    "                    signal = data[column].values\n",
    "                    features = compute_time_domain_features(signal)\n",
    "                    features_list.append(features)\n",
    "    return features_list\n",
    "\n",
    "def main(data_directory):\n",
    "    all_features = []\n",
    "    labels = []\n",
    "    class_label = 0\n",
    "    for subdir in sorted(os.listdir(data_directory)):\n",
    "        subdir_path = os.path.join(data_directory, subdir)\n",
    "        if os.path.isdir(subdir_path):\n",
    "            class_features = process_files_in_directory(subdir_path)\n",
    "            all_features.extend(class_features)\n",
    "            labels.extend([class_label] * len(class_features))\n",
    "            class_label += 1\n",
    "    \n",
    "    # Створюємо DataFrame з усіма обчисленими ознаками\n",
    "    column_names = [\n",
    "        'mean', 'std_dev', 'variance', 'max', 'min', 'range',\n",
    "        'rms', 'kurtosis', 'skewness', 'zero_crossings'\n",
    "    ]\n",
    "    features_df = pd.DataFrame(all_features, columns=column_names)\n",
    "    labels_df = pd.DataFrame(labels, columns=['class_label'])\n",
    "    \n",
    "    return features_df, labels_df\n",
    "\n"
   ]
  },
  {
   "cell_type": "code",
   "execution_count": 4,
   "id": "1ed57cd5-f8ac-482a-b379-8ee68d8b64c0",
   "metadata": {},
   "outputs": [
    {
     "name": "stdout",
     "output_type": "stream",
     "text": [
      "(            mean   std_dev   variance        max        min      range  \\\n",
      "0       0.178448  1.018942   1.038242   5.099650  -0.909797   6.009447   \n",
      "1       0.167435  1.138147   1.295378   4.616021  -0.282516   4.898537   \n",
      "2       9.605697  0.400064   0.160051   9.806650   8.418014   1.388636   \n",
      "3      -0.098641  0.123732   0.015310   0.407014  -0.320823   0.727837   \n",
      "4      -0.131202  0.047251   0.002233   0.023942  -0.244209   0.268151   \n",
      "...          ...       ...        ...        ...        ...        ...   \n",
      "19381 -11.146126  5.205216  27.094278   0.181959 -25.201366  25.383325   \n",
      "19382   0.233036  7.809926  60.994952  32.599450 -16.903065  49.502515   \n",
      "19383   1.131979  4.141624  17.153053  11.113884  -7.359776  18.473660   \n",
      "19384 -10.937192  5.351603  28.639651   0.181959 -25.201366  25.383325   \n",
      "19385   0.260170  7.808017  60.965136  32.599450 -16.903065  49.502515   \n",
      "\n",
      "             rms   kurtosis  skewness  zero_crossings  \n",
      "0       1.034450  18.543171  4.044308               5  \n",
      "1       1.150396  12.224165  3.647470               5  \n",
      "2       9.614024   4.369874 -2.365312               0  \n",
      "3       0.158240   9.159428  2.300676               4  \n",
      "4       0.139451   4.077279  0.568223               2  \n",
      "...          ...        ...       ...             ...  \n",
      "19381  12.301642   0.575501 -0.365569               2  \n",
      "19382   7.813402   9.759177  1.959435              13  \n",
      "19383   4.293533  -0.250607  0.084357              11  \n",
      "19384  12.176281   0.408364 -0.354875               2  \n",
      "19385   7.812351   9.741165  1.950320              13  \n",
      "\n",
      "[19386 rows x 10 columns],        class_label\n",
      "0                0\n",
      "1                0\n",
      "2                0\n",
      "3                0\n",
      "4                0\n",
      "...            ...\n",
      "19381            3\n",
      "19382            3\n",
      "19383            3\n",
      "19384            3\n",
      "19385            3\n",
      "\n",
      "[19386 rows x 1 columns])\n"
     ]
    }
   ],
   "source": [
    "all_dataframes = main('data')\n",
    "print(all_dataframes)"
   ]
  },
  {
   "cell_type": "code",
   "execution_count": null,
   "id": "923ff7f1-a9bd-4d88-834f-f09092106949",
   "metadata": {},
   "outputs": [],
   "source": [
    "features_df, labels_df = main('data')\n",
    "\n",
    "X = features_df.values\n",
    "y = labels_df.values.flatten()\n",
    "\n",
    "X_train, X_test, y_train, y_test = train_test_split(X, y, test_size=0.2, random_state=42)\n"
   ]
  },
  {
   "cell_type": "code",
   "execution_count": null,
   "id": "d31b529a-9473-446f-be25-1ea59635bfb9",
   "metadata": {},
   "outputs": [],
   "source": [
    "clf = svm.SVC()\n",
    "clf.fit(X_train, y_train)\n"
   ]
  },
  {
   "cell_type": "code",
   "execution_count": null,
   "id": "9f30f8a2-3359-4434-bd9f-d5e3cffb20fb",
   "metadata": {},
   "outputs": [],
   "source": [
    "y_pred = clf.predict(X_test)\n",
    "y_pred"
   ]
  },
  {
   "cell_type": "code",
   "execution_count": null,
   "id": "4fea58a4-6bb6-44d3-873b-f1fb0b63f45c",
   "metadata": {},
   "outputs": [],
   "source": [
    "accuracy = accuracy_score(y_test, y_pred)\n",
    "print(f\"Процент правильних відповідей: {accuracy * 100:.2f}%\")\n"
   ]
  },
  {
   "cell_type": "code",
   "execution_count": null,
   "id": "1c9aa6cf-e93a-43e8-bb33-f2b3f84fcc00",
   "metadata": {},
   "outputs": [],
   "source": [
    "y_pred[:20]\n"
   ]
  },
  {
   "cell_type": "code",
   "execution_count": null,
   "id": "12e5bba5-7f8f-4624-9320-f0b42f19de58",
   "metadata": {},
   "outputs": [],
   "source": [
    "y_test[:20]\n"
   ]
  },
  {
   "cell_type": "code",
   "execution_count": null,
   "id": "522f2a0f-5d1f-4c34-ba99-f90c522f03a4",
   "metadata": {},
   "outputs": [],
   "source": [
    "accuracy = accuracy_score(y_test, y_pred)\n",
    "precision = precision_score(y_test, y_pred, average='weighted', zero_division=1)\n",
    "recall = recall_score(y_test, y_pred, average='weighted', zero_division=1)\n",
    "f1 = f1_score(y_test, y_pred, average='weighted')\n",
    "\n",
    "print(f\"Процент правильних відповідей: {accuracy * 100:.2f}%\")\n",
    "print(f\"Precision: {precision * 100:.2f}%\")\n",
    "print(f\"Recall: {recall * 100:.2f}%\")\n",
    "print(f\"F1 Score: {f1 * 100:.2f}%\")\n"
   ]
  },
  {
   "cell_type": "code",
   "execution_count": null,
   "id": "8b3433f0-75c1-49bb-8241-e8ba928e0734",
   "metadata": {},
   "outputs": [],
   "source": []
  }
 ],
 "metadata": {
  "kernelspec": {
   "display_name": "Python 3 (ipykernel)",
   "language": "python",
   "name": "python3"
  },
  "language_info": {
   "codemirror_mode": {
    "name": "ipython",
    "version": 3
   },
   "file_extension": ".py",
   "mimetype": "text/x-python",
   "name": "python",
   "nbconvert_exporter": "python",
   "pygments_lexer": "ipython3",
   "version": "3.12.1"
  }
 },
 "nbformat": 4,
 "nbformat_minor": 5
}
